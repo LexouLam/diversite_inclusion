{
 "cells": [
  {
   "cell_type": "markdown",
   "metadata": {},
   "source": [
    "# Répertoire des bilans sociaux de grandes entreprises - focus sur les salariés en situation de handicap\n",
    "\n",
    "**Objectif** : extraction et mise en forme des données de bilan social d'entreprises similaires à EDF liées aux salariés en situation de handicap \n",
    "\n",
    "**Méthodologie** : \n",
    "- exploration des données d'EDF et de leur format\n",
    "- établissement d'une liste d'entreprises cibles\n",
    "- téléchargement des Déclarations de Performance Extra-Financière (DPEF) des entreprises cibles\n",
    "- extraction de tous les tableaux de données des DPEF (csv)\n",
    "- extration des informations liées aux salariés en situation de handicap des tableaux de données\n",
    "- mise en forme des informations pour correspondre à celles de EDF\n",
    "\n",
    "**Outils et librairies associées**:\n",
    "- extraction des tableaux des fichiers pdf avec *docling* (https://github.com/DS4SD/docling)\n",
    "- extraction des informations ciblées avec le framework *langchain* (https://www.langchain.com/)\n",
    "- modèle de langage *Ollama Qwen2.5* en local pour la sélection des informations (https://ollama.com/library/qwen2.5:7b)"
   ]
  },
  {
   "cell_type": "markdown",
   "metadata": {},
   "source": [
    "## Liste entreprises extérieures et documents disponibles\n",
    "\n",
    "Entreprises ciblées : CNP Assurances, ENGIE, Décathlon, Carrefour, Auchan, Orange.\n",
    "\n",
    "La liste des entreprises ciblées comporte celles données dans les ressources du défi ainsi que d'autres : les plus importantes en France ou celles d'effectif similaire à EDF, en 2018 (https://fr.wikipedia.org/wiki/Liste_des_plus_grandes_entreprises_fran%C3%A7aises). Les données de l'INSA n'ont pas été extraites car le document ne contient pas de tableau pour les effectifs des salariés en situation de handicap.\n",
    "\n",
    "Au vu de la nomenclature unique de chaque fichier des différentes entreprises, l'absence de données brutes, la présence de données pour l'année en cours ou précédente seulement, la méthode d'extraction des données ne semble pas pouvoir être totalement automatisée. \n",
    "\n",
    "### Documents disponibles\n",
    "\n",
    "**Bilan sociaux**\n",
    "\n",
    "|Entreprise|Type données|Lien|Commentaire |\n",
    "|----------|------------|----|------------|\n",
    "|CNP Assurances |**pdf texte**| https://www.cnp.fr/cnp/content/download/11474/file/CNP-Assurances-Bilan-social-2023.pdf | Information handicap présente |\n",
    "|ENGIE          |**pdf texte**|https://www.engie.com/sites/default/files/assets/documents/2023-03/ENGIE%20SA_Bilan%20social%202021_VD.pdf | Information handicap présente |\n",
    "|INSA Strasbourg|**pdf**|https://www.insa-strasbourg.fr/wp-content/uploads/INSA_bilan_soc_20_V2_21.pdf | Information handicap non présente |\n",
    "\n",
    "**Déclaration de Performance Extra-Financière (DPEF)**\n",
    "\n",
    "|Entreprise|Type données|Lien|Commentaire|\n",
    "|----------|------------|----|-----------|\n",
    "|Décathlon|**html vers pdfs texte**| https://engagements.decathlon.fr/les-rapports-developpement-durable-decathlon-annuels | tableaux en annexe dispo par pays - p92 pour handicap|\n",
    "|Carrefour|**pdf texte**|https://www.carrefour.com/sites/default/files/2024-05/DPEF%202023%20Groupe%20Carrefour.pdf| tableau évolution 2022-23 p58|\n",
    "|Carrefour|**pdf texte**|https://www.carrefour.com/sites/default/files/2023-04/DPEF_Carrefour_2022.pdf| pour 2021-22 p131|\n",
    "|Auchan|**html vers pdf texte**|https://www.auchan-retail.com/fr/rapport-financier-annuel-et-declaration-de-performance-extra-financiere-2022/| tableau évolution 2020-2023 p98|\n",
    "|Orange|**pdf texte**|https://gallery.orange.com/rse/?v=ffca4aaa-5c3b-44e4-ba7b-2760163650ea#beecontext=viewShareContext&l=row&st=417c9e1e-3eae-44b2-bce6-c1a6dadc179f|il faut regarder dans chaque document|\n",
    "\n",
    "**Autres documents ou données**\n",
    "\n",
    "|Entreprise|Type données|Lien|Commentaire |\n",
    "|----------|------------|----|------------|\n",
    "|SNCF|accessible API | https://ressources.data.sncf.com/explore/dataset/agents-situation-handicap/table/?sort=date | Spécifique handicap / an |\n",
    "|SNCF|accessible API | https://ressources.data.sncf.com/explore/dataset/nombre-total-agents-effectifs/table/?sort=date | Spécifique par collège / an |\n",
    "|SNCF|accessible API | https://ressources.data.sncf.com/explore/dataset/repartition-genre-effectif/information/ | Spécifique par genre / an |\n"
   ]
  },
  {
   "cell_type": "markdown",
   "metadata": {},
   "source": [
    "# Extraction des informations sur les salariés handicapés de plusieurs entreprises\n",
    "\n",
    "Ci-dessous, le pipeline complet des fichiers pdfs à un fichier csv avec les informations ciblées (nombre ou pourcentage de salariés en situation de handicap en France, pour plusieurs années)."
   ]
  },
  {
   "cell_type": "markdown",
   "metadata": {},
   "source": [
    "## Librairies et configuration"
   ]
  },
  {
   "cell_type": "code",
   "execution_count": 1,
   "metadata": {},
   "outputs": [],
   "source": [
    "import glob\n",
    "import re \n",
    "\n",
    "from docling.backend.pypdfium2_backend import PyPdfiumDocumentBackend\n",
    "from docling.datamodel.base_models import InputFormat\n",
    "from docling.datamodel.pipeline_options import PdfPipelineOptions\n",
    "from docling.document_converter import DocumentConverter, PdfFormatOption\n",
    "\n",
    "import pandas as pd \n",
    "import numpy as np\n",
    "\n",
    "from langchain_ollama import OllamaLLM"
   ]
  },
  {
   "cell_type": "markdown",
   "metadata": {},
   "source": [
    "## Fonctions "
   ]
  },
  {
   "cell_type": "code",
   "execution_count": 2,
   "metadata": {},
   "outputs": [],
   "source": [
    "def pdf_tables_to_csv(liste_fichiers_pdf):\n",
    "    \"\"\"Extraction des tableaux des fichiers pdf donnés dans la liste en plusieurs fichiers csv    \n",
    "    \"\"\"\n",
    "    # Paramètres pour la conversion des fichiers pdf\n",
    "    pipeline_options = PdfPipelineOptions()\n",
    "    pipeline_options.do_ocr = False\n",
    "    pipeline_options.do_table_structure = True\n",
    "    pipeline_options.table_structure_options.do_cell_matching = False\n",
    "\n",
    "    for input_doc_path in liste_fichiers_pdf:\n",
    "        # Instanciation du convertisseur de pdf\n",
    "        doc_converter = DocumentConverter(\n",
    "            format_options={\n",
    "                InputFormat.PDF: PdfFormatOption(\n",
    "                    pipeline_options=pipeline_options, backend=PyPdfiumDocumentBackend)\n",
    "                            }\n",
    "        )\n",
    "\n",
    "        # Conversion du pdf\n",
    "        conv_result = doc_converter.convert(input_doc_path)\n",
    "\n",
    "        # Export des tableaux \n",
    "        for table_ix, table in enumerate(conv_result.document.tables):\n",
    "            table_df: pd.DataFrame = table.export_to_dataframe()\n",
    "            # Sauvegarde en csv\n",
    "            element_csv_filename = f\"{re.sub(r'\\.pdf', '', input_doc_path)}-table-{table_ix+1}.csv\"\n",
    "            table_df.to_csv(element_csv_filename)"
   ]
  },
  {
   "cell_type": "code",
   "execution_count": 3,
   "metadata": {},
   "outputs": [],
   "source": [
    "def extract_handicap_informations(entreprise, limit=-1) -> dict:\n",
    "    \"\"\" Recherche parmis tous les fichiers csv d'une entreprise les informations et données \n",
    "    relatives aux salariés en situation de handicap\n",
    "    \n",
    "    Input : nom de l'entreprise (doit correspondre à un nom de dossier dans ../data/raw)\n",
    "\n",
    "    Output : dictionnaire {'nom_du_fichier.csv' : 'sortie du llm'}\n",
    "    \"\"\"\n",
    "\n",
    "    fichiers_entreprise = glob.glob(f'../data/raw/{entreprise}/*.csv')\n",
    "\n",
    "    resultats = {}\n",
    "\n",
    "    if limit==-1:\n",
    "        limit=len(fichiers_entreprise)\n",
    "    for fichier in fichiers_entreprise[:limit]:\n",
    "        data = pd.read_csv(fichier)\n",
    "\n",
    "        # si le mot 'handicap' est présent dans le tableau, on recherche les informations, sinon on retourne un dictionnaire sans rien\n",
    "        if len(re.findall(r\".*handicap.*\", data.to_string()))!=0:\n",
    "\n",
    "            model = OllamaLLM(model=\"qwen2.5\", temperature=0)\n",
    "\n",
    "            template = '''\n",
    "            Tu es un expert d'extraction d'informations à partir de documents administratifs de l'entreprise {entreprise} (DONNEES INITIALES).\n",
    "            Tu dois remplir une liste comme dans l'exemple (LISTE FINALE) avec les informations suivantes pour chaque année :\n",
    "            1. Nombre total de salariés en situation de handicap en France ou en Europe.\n",
    "            2. Pourcentage ou taux de salariés total en situation de handicap en France ou en Europe.\n",
    "            3. Le pays ou la région associés (France, Europe ou autre).\n",
    "            Si tu ne connais pas la valeur d'un attribut demandé, retourne `null` pour cet attribut.\n",
    "            Si tu ne connais pas l'année, retourne `null` pour sa valeur.\n",
    "            Tu ne fais aucun calcul, ne suppose rien, et ré-écris simplement les valeurs trouvées dans les données initiales.\n",
    "\n",
    "            ### DONNES INITIALES :\n",
    "\n",
    "            {data}\n",
    "\n",
    "\n",
    "            ### LISTE FINALE (EXEMPLE) :\n",
    "\n",
    "            [\n",
    "                \"année : <valeur> et pays <valeur région ou pays>, salariés en situation de handicap : <nombre de salariés en situation de handicap>, pourcentage handicap : <pourcentage ou taux> %\",\n",
    "                ...\n",
    "            ]\n",
    "\n",
    "\n",
    "            ### RÉPONSE :\n",
    "\n",
    "            '''.format(data = data, entreprise=entreprise)\n",
    "\n",
    "            result = model.invoke(template)\n",
    "        else:\n",
    "            result = 'pas de mot handicap dans le fichier'\n",
    "        resultats[f'{fichier}'] = result\n",
    "        # print(f\"Réponse du LLM pour le fichier {fichier}\\n\", result, '\\n')\n",
    "\n",
    "    return resultats\n",
    "\n"
   ]
  },
  {
   "cell_type": "code",
   "execution_count": 4,
   "metadata": {},
   "outputs": [],
   "source": [
    "\n",
    "def parse_results_to_df(liste_output_llm) -> pd.DataFrame:\n",
    "    \"\"\"Transforme la chaîne de caractères en sortie de prompt+modèle en df\n",
    "    \n",
    "    Input : liste de chaînes de caractères du type :\n",
    "        [\n",
    "            'année : 2020, salariés en situation de handicap : null, pourcentage handicap : 4,0 %',\n",
    "            'année : 2021, salariés en situation de handicap : null, pourcentage handicap : 4,6 %',\n",
    "            'année : 2022, salariés en situation de handicap : null, pourcentage handicap : 4,1 %'\n",
    "        ]\n",
    "\n",
    "    \"\"\"\n",
    "    # instanciation du df des résultats du tableau i sous la forme de liste\n",
    "    df = pd.DataFrame({  \n",
    "                    'année':[''],\n",
    "                    'salariés en situation de handicap':[''],\n",
    "                    'pourcentage handicap':['']\n",
    "                    })\n",
    "\n",
    "    if liste_output_llm is not None : #si liste_output_llm est None alors le df output contient des caractères vides\n",
    "        for result_string in liste_output_llm:\n",
    "            # séparation des attribut et valeurs associées\n",
    "            result_string_splitted = re.split(', ', result_string)\n",
    "            # instanciation des listes d'attributs pour l'année en cours\n",
    "            annee_liste = []\n",
    "            nombre_salaries_handicap = []\n",
    "            pourcentage_handicap = []\n",
    "            for string in result_string_splitted:\n",
    "                # séparation du nom de l'attribut de sa valeur\n",
    "                key, value = re.split(\":\", string)\n",
    "                # ajout des valeurs aux listes selon les noms d'attribut\n",
    "                if key.strip() == \"année\":\n",
    "                    annee_liste.append(value.strip())\n",
    "                elif key.strip() ==\"salariés en situation de handicap\":\n",
    "                    nombre_salaries_handicap.append(value.strip())\n",
    "                elif key.strip()==\"pourcentage handicap\":\n",
    "                    pourcentage_handicap.append(value.strip())\n",
    "                else:\n",
    "                    print(\"Error : stopping.\")\n",
    "            # construction d'un tableau intermédiaire pour l'année en cours\n",
    "            df_tmp = pd.DataFrame({  \n",
    "                            'année':annee_liste,\n",
    "                            'salariés en situation de handicap':nombre_salaries_handicap,\n",
    "                            'pourcentage handicap':pourcentage_handicap\n",
    "                            })\n",
    "            # merge avec le dataframe final\n",
    "            df = pd.concat([df, df_tmp])\n",
    "        #suppression de la première ligne vide\n",
    "        df = df.iloc[1:]\n",
    "    \n",
    "    return df"
   ]
  },
  {
   "cell_type": "code",
   "execution_count": 5,
   "metadata": {},
   "outputs": [],
   "source": [
    "def parse_llms_results_to_df(results, entreprise_name):\n",
    "    \"\"\" Transforme le dictionnaire contenant les outputs du llm en df\n",
    "    \n",
    "    Input : Results = Dictionnaire { 'nom_fichier' : 'output llm'}\n",
    "            entreprise_name = String nom de l'entreprise en cours \n",
    "    \"\"\"\n",
    "\n",
    "    df_all = None\n",
    "    for key in results.keys():\n",
    "        text_raw = results[f'{key}']\n",
    "        text_clean = re.sub('\\n', '', text_raw)\n",
    "        text_clean = re.sub('pourcentage handicap : null', 'pourcentage handicap : null %', text_clean)\n",
    "        text_search = re.search(r'.*(\\[    \"année : .*%\"\\]).*', text_clean)\n",
    "        if text_search is not None : \n",
    "            text_extracted=text_search.group(1)\n",
    "            liste_texte = eval(text_extracted)\n",
    "        else: \n",
    "            liste_texte = None\n",
    "        \n",
    "        df_tmp = parse_results_to_df(liste_texte)\n",
    "        \n",
    "        df_tmp['source']=f'{key}'\n",
    "        df_tmp['entreprise']=f'{entreprise_name}'\n",
    "        if df_all is None:\n",
    "            df_all=df_tmp\n",
    "        else:\n",
    "            df_all = pd.concat([df_all, df_tmp])\n",
    "    return df_all\n"
   ]
  },
  {
   "cell_type": "code",
   "execution_count": 6,
   "metadata": {},
   "outputs": [],
   "source": [
    "def extract_handicap_information_all_entreprises(liste_entreprise_directories)->pd.DataFrame:\n",
    "    \"\"\" \n",
    "        Création du dataframe avec les informations des salariés handicapés à partir des noms des entreprises\n",
    "\n",
    "        Input : liste des noms d'entreprises correspondant aux noms des dossiers dans data/raw \n",
    "\n",
    "        Output : df brut des données extraites des fichiers csv\n",
    "    \"\"\"\n",
    "    df_all_entreprise=None\n",
    "    for entreprise in liste_entreprise_directories:\n",
    "        assert len(glob.glob(f'../data/raw/{entreprise}'))==1, \"Erreur : le nom de l'entreprise ne correspond pas à un dossier unique dans data/raw.\"\n",
    "        resultats = extract_handicap_informations(entreprise, limit=-1)\n",
    "        df_tmp = parse_llms_results_to_df(results=resultats, entreprise_name=entreprise)\n",
    "        if df_all_entreprise is None:\n",
    "            df_all_entreprise=df_tmp\n",
    "        else:\n",
    "            df_all_entreprise=pd.concat([df_all_entreprise, df_tmp])\n",
    "    return df_all_entreprise"
   ]
  },
  {
   "cell_type": "code",
   "execution_count": 7,
   "metadata": {},
   "outputs": [],
   "source": [
    "def clean_handicap_information_all_entreprises(df_raw):\n",
    "    \"\"\" \n",
    "    Nettoyage du dataframe de sortie pour correspondre au format fourni dans le fichier d'EDF\n",
    "    \"\"\"\n",
    "    mask = (\n",
    "            #sélection des lignes avec des années écrites\n",
    "            (df_raw.année.str.contains(r'\\d', regex=True)) \n",
    "            #sélection des lignes avec un nb de salariés ou un %\n",
    "            &(\n",
    "                df_raw['salariés en situation de handicap'].str.contains(r'\\d', regex=True) \n",
    "                |\n",
    "                df_raw['pourcentage handicap'].str.contains(r'\\d', regex=True)\n",
    "                ) \n",
    "            )\n",
    "    df_tmp = df_raw.loc[mask]\n",
    "\n",
    "    # Séparation de l'année et du pays\n",
    "    df_annee_pays = df_tmp.année.str.split(' et pays ', expand=True).set_axis(['année', 'pays'], axis=1)\n",
    "    df_tmp['année']=df_annee_pays.loc[:,'année'].values\n",
    "    df_tmp['pays']=df_annee_pays.loc[:,'pays'].values\n",
    "\n",
    "    # Sélection des données pour France ou null si France non mentionné\n",
    "    mask = df_tmp.pays.str.contains('France')|df_tmp.pays.str.contains('null')\n",
    "    df_tmp = df_tmp.loc[mask]\n",
    "\n",
    "    # Extraction des pourcentages en valeur transformable en float\n",
    "    pourcentages_clean = [re.sub(r'.*(\\d+).(\\d+).*', r'\\1.\\2', value) for value in df_tmp['pourcentage handicap'].values]\n",
    "    pourcentages_clean = [re.sub('%', '', pourcentage).strip() \n",
    "                            if re.match(r'.*%', pourcentage) is not None \n",
    "                            else pourcentage \n",
    "                            for pourcentage in pourcentages_clean]\n",
    "    df_tmp['pourcentage handicap float'] = pourcentages_clean\n",
    "    # Transformation en float\n",
    "    df_tmp['pourcentage handicap float'] = df_tmp['pourcentage handicap float'].astype(float)\n",
    "\n",
    "    # Transformation des salariés en situation de handicap en float \n",
    "    nombre_clean = [re.sub(r'\\W', '', value) for value in df_tmp['salariés en situation de handicap'].values]\n",
    "    df_tmp['nombre'] = nombre_clean\n",
    "    df_tmp = df_tmp.replace(to_replace={'null':np.nan})\n",
    "\n",
    "    # Pour le nombre - Sélection des variables et renommage des colonnes\n",
    "    df_final_nombre = (df_tmp\n",
    "                    .loc[:, ['année', 'entreprise', 'nombre', 'pays']]\n",
    "                    .rename(columns = {'année':'Année',\n",
    "                                        \"pays\":\"Perimètre spatial\",\n",
    "                                        'entreprise':'Perimètre juridique',\n",
    "                                        'nombre':'Valeur',\n",
    "                                        \n",
    "                                        })\n",
    "                )\n",
    "    df_final_nombre['Indicateur'] = 'Salariés en situation de handicap'\n",
    "    df_final_nombre['Unité'] = 'nombre'\n",
    "\n",
    "    # Pour le pourcentage \n",
    "    df_final_pourcentage = (df_tmp\n",
    "                    .loc[:, ['année', 'entreprise', 'pourcentage handicap float', 'pays']]\n",
    "                    .rename(columns = {'année':'Année',\n",
    "                                        \"pays\":\"Perimètre spatial\",\n",
    "                                        'entreprise':'Perimètre juridique',\n",
    "                                        'pourcentage handicap float':'Valeur',\n",
    "                                        \n",
    "                                        })\n",
    "                )\n",
    "    df_final_pourcentage['Indicateur'] = 'Salariés en situation de handicap (%)'\n",
    "    df_final_pourcentage['Unité'] = 'pourcentage'\n",
    "\n",
    "    # Concaténation du nombre et du pourcentage\n",
    "    df_final = pd.concat([df_final_nombre, df_final_pourcentage], axis=0)\n",
    "    \n",
    "    return df_final"
   ]
  },
  {
   "cell_type": "markdown",
   "metadata": {},
   "source": [
    "## Application aux fichiers des entreprises Auchan, Carrefour, CNP, Decathlon, ENGIE et Orange\n",
    "\n",
    "Application uniquement aux fichiers pdf dont quelques pages ont été extraites (dont celle avec l'information ciblée), pour gagner du temps de calcul."
   ]
  },
  {
   "cell_type": "code",
   "execution_count": 8,
   "metadata": {},
   "outputs": [
    {
     "name": "stdout",
     "output_type": "stream",
     "text": [
      "['../data/raw/Carrefour/DPEF 2023 Groupe Carrefour_3p.pdf', '../data/raw/Carrefour/DPEF_Carrefour_2022_3p.pdf', '../data/raw/Orange/Bilan Social 2021 Orange SA_6p.pdf', '../data/raw/CNP/CNP-Assurances-Bilan-social-2023_3p.pdf', '../data/raw/Auchan/auchan_2022_6p.pdf', '../data/raw/Decathlon/2023_Decathlon_Déclaration_de_Performance_Extra_Financière_2023_7p.pdf', '../data/raw/Decathlon/2021_FR_Déclaration_de_Performance_Extra_Financière_2021_9p.pdf', '../data/raw/ENGIE/ENGIE SA_Bilan social 2021_VD_3p.pdf']\n",
      "['Auchan', 'CNP', 'Carrefour', 'Decathlon', 'ENGIE', 'Orange']\n"
     ]
    },
    {
     "data": {
      "application/vnd.jupyter.widget-view+json": {
       "model_id": "2e142779d5c74716afc9a152adc70c16",
       "version_major": 2,
       "version_minor": 0
      },
      "text/plain": [
       "Fetching 9 files:   0%|          | 0/9 [00:00<?, ?it/s]"
      ]
     },
     "metadata": {},
     "output_type": "display_data"
    },
    {
     "data": {
      "application/vnd.jupyter.widget-view+json": {
       "model_id": "d433c6540a0748fca47ae0e4d7cf3897",
       "version_major": 2,
       "version_minor": 0
      },
      "text/plain": [
       "Fetching 9 files:   0%|          | 0/9 [00:00<?, ?it/s]"
      ]
     },
     "metadata": {},
     "output_type": "display_data"
    },
    {
     "data": {
      "application/vnd.jupyter.widget-view+json": {
       "model_id": "44ea611e12e248fea46157167aeec062",
       "version_major": 2,
       "version_minor": 0
      },
      "text/plain": [
       "Fetching 9 files:   0%|          | 0/9 [00:00<?, ?it/s]"
      ]
     },
     "metadata": {},
     "output_type": "display_data"
    },
    {
     "data": {
      "application/vnd.jupyter.widget-view+json": {
       "model_id": "e70129bad3614ad98cc73c6385c85ec0",
       "version_major": 2,
       "version_minor": 0
      },
      "text/plain": [
       "Fetching 9 files:   0%|          | 0/9 [00:00<?, ?it/s]"
      ]
     },
     "metadata": {},
     "output_type": "display_data"
    },
    {
     "data": {
      "application/vnd.jupyter.widget-view+json": {
       "model_id": "8e8ed4d0040542e8b5d677c0da5befe8",
       "version_major": 2,
       "version_minor": 0
      },
      "text/plain": [
       "Fetching 9 files:   0%|          | 0/9 [00:00<?, ?it/s]"
      ]
     },
     "metadata": {},
     "output_type": "display_data"
    },
    {
     "data": {
      "application/vnd.jupyter.widget-view+json": {
       "model_id": "fa1b14c1fa9646e58e345135a22c41ed",
       "version_major": 2,
       "version_minor": 0
      },
      "text/plain": [
       "Fetching 9 files:   0%|          | 0/9 [00:00<?, ?it/s]"
      ]
     },
     "metadata": {},
     "output_type": "display_data"
    },
    {
     "data": {
      "application/vnd.jupyter.widget-view+json": {
       "model_id": "348535d2c1e74fa6a82be83e2ba9b8b3",
       "version_major": 2,
       "version_minor": 0
      },
      "text/plain": [
       "Fetching 9 files:   0%|          | 0/9 [00:00<?, ?it/s]"
      ]
     },
     "metadata": {},
     "output_type": "display_data"
    },
    {
     "data": {
      "application/vnd.jupyter.widget-view+json": {
       "model_id": "810b76c477b5411a9561a6213ab38306",
       "version_major": 2,
       "version_minor": 0
      },
      "text/plain": [
       "Fetching 9 files:   0%|          | 0/9 [00:00<?, ?it/s]"
      ]
     },
     "metadata": {},
     "output_type": "display_data"
    },
    {
     "name": "stderr",
     "output_type": "stream",
     "text": [
      "/tmp/ipykernel_4865/834607274.py:19: SettingWithCopyWarning: \n",
      "A value is trying to be set on a copy of a slice from a DataFrame.\n",
      "Try using .loc[row_indexer,col_indexer] = value instead\n",
      "\n",
      "See the caveats in the documentation: https://pandas.pydata.org/pandas-docs/stable/user_guide/indexing.html#returning-a-view-versus-a-copy\n",
      "  df_tmp['année']=df_annee_pays.loc[:,'année'].values\n",
      "/tmp/ipykernel_4865/834607274.py:20: SettingWithCopyWarning: \n",
      "A value is trying to be set on a copy of a slice from a DataFrame.\n",
      "Try using .loc[row_indexer,col_indexer] = value instead\n",
      "\n",
      "See the caveats in the documentation: https://pandas.pydata.org/pandas-docs/stable/user_guide/indexing.html#returning-a-view-versus-a-copy\n",
      "  df_tmp['pays']=df_annee_pays.loc[:,'pays'].values\n"
     ]
    }
   ],
   "source": [
    "# Input : liste des fichiers pdf à convertir (fichiers minimaux avec les pages d'intérêt sélectionnées au préalable)\n",
    "liste_fichiers_pdf = [path for path in glob.glob('../data/raw/*/*') if re.match(r'.*_\\dp\\.pdf', path)]\n",
    "print(liste_fichiers_pdf)\n",
    "\n",
    "# Noms des entreprises avec des fichiers pdf associés\n",
    "liste_entreprises = list(np.unique([re.sub(r'.*/raw/(.*)/.*', r'\\1', fichier) for fichier in liste_fichiers_pdf]))\n",
    "print(liste_entreprises)\n",
    "\n",
    "# Génération des fichiers contentant les tableaux (csv)\n",
    "pdf_tables_to_csv(liste_fichiers_pdf)\n",
    "\n",
    "# Extraction des informations des fichiers csv\n",
    "entreprises_raw = extract_handicap_information_all_entreprises(liste_entreprises)\n",
    "\n",
    "# Nettoyage du dataframe et création du fichier csv de sortie \n",
    "entreprises_clean = clean_handicap_information_all_entreprises(entreprises_raw)\n",
    "\n",
    "# Création du fichier de sortie \n",
    "output_path = \"../data/processed/salaries-en-situation-handicap_entreprises-cibles.csv\"\n",
    "entreprises_clean.to_csv(output_path, index=False)\n"
   ]
  },
  {
   "cell_type": "markdown",
   "metadata": {},
   "source": [
    "# Comparaison des données extraites et des données réelles\n",
    "\n",
    "**Données réelles** \n",
    "\n",
    "|Année|Indicateur|Valeur|Perimètre juridique|Unité|\n",
    "|------|---------|-------|------------------|-----|\n",
    "|2020|Salariés en situation de handicap||Auchan|nombre|\n",
    "|2021|Salariés en situation de handicap||Auchan|nombre|\n",
    "|2022|Salariés en situation de handicap||Auchan|nombre|\n",
    "|2021|Salariés en situation de handicap|10902|Carrefour|nombre|\n",
    "|2022|Salariés en situation de handicap|11281|Carrefour|nombre|\n",
    "|2023|Salariés en situation de handicap|13358|Carrefour|nombre|\n",
    "|2021|Salariés en situation de handicap|222|CNP|nombre|\n",
    "|2022|Salariés en situation de handicap|231|CNP|nombre|\n",
    "|2023|Salariés en situation de handicap|254|CNP|nombre|\n",
    "|2020|Salariés en situation de handicap||Decathlon|nombre|\n",
    "|2021|Salariés en situation de handicap||Decathlon|nombre|\n",
    "|2022|Salariés en situation de handicap||Decathlon|nombre|\n",
    "|2023|Salariés en situation de handicap||Decathlon|nombre|\n",
    "|2019|Salariés en situation de handicap|189|ENGIE|nombre|\n",
    "|2020|Salariés en situation de handicap|155|ENGIE|nombre|\n",
    "|2021|Salariés en situation de handicap|154|ENGIE|nombre|\n",
    "|2019|Salariés en situation de handicap|5247|Orange|nombre|\n",
    "|2020|Salariés en situation de handicap|4748|Orange|nombre|\n",
    "|2021|Salariés en situation de handicap|3685|Orange|nombre|\n",
    "|2020|Salariés en situation de handicap (%)|4.0|Auchan|pourcentage|\n",
    "|2021|Salariés en situation de handicap (%)|4.6|Auchan|pourcentage|\n",
    "|2022|Salariés en situation de handicap (%)|4.1|Auchan|pourcentage|\n",
    "|2021|Salariés en situation de handicap (%)|3.4|Carrefour|pourcentage|\n",
    "|2022|Salariés en situation de handicap (%)|3.7|Carrefour|pourcentage|\n",
    "|2023|Salariés en situation de handicap (%)|4.0|Carrefour|pourcentage|\n",
    "|2021|Salariés en situation de handicap (%)|7.3|CNP|pourcentage|\n",
    "|2022|Salariés en situation de handicap (%)|7.4|CNP|pourcentage|\n",
    "|2023|Salariés en situation de handicap (%)|7.9|CNP|pourcentage|\n",
    "|2020|Salariés en situation de handicap (%)|3.2|Decathlon|pourcentage|\n",
    "|2021|Salariés en situation de handicap (%)|3.1|Decathlon|pourcentage|\n",
    "|2022|Salariés en situation de handicap (%)|3.2|Decathlon|pourcentage|\n",
    "|2023|Salariés en situation de handicap (%)|3.5|Decathlon|pourcentage|\n",
    "|2019|Salariés en situation de handicap (%)||ENGIE|pourcentage|\n",
    "|2020|Salariés en situation de handicap (%)||ENGIE|pourcentage|\n",
    "|2021|Salariés en situation de handicap (%)||ENGIE|pourcentage|\n",
    "|2019|Salariés en situation de handicap (%)||Orange|pourcentage|\n",
    "|2020|Salariés en situation de handicap (%)||Orange|pourcentage|\n",
    "|2021|Salariés en situation de handicap (%)||Orange|pourcentage|\n",
    "\n",
    "**Données extraites**\n",
    "\n",
    "|Année|Perimètre juridique|Valeur|Perimètre spatial|Indicateur|Unité|\n",
    "|-----|-------------------|------|-----------------|----------|-----|\n",
    "|2020|Auchan||France|Salariés en situation de handicap|nombre|\n",
    "|2021|Auchan||France|Salariés en situation de handicap|nombre|\n",
    "|2022|Auchan||France|Salariés en situation de handicap|nombre|\n",
    "|2022|Carrefour|11281|France|Salariés en situation de handicap|nombre|\n",
    "|2021|Carrefour|10902|France|Salariés en situation de handicap|nombre|\n",
    "|2021|Decathlon||France|Salariés en situation de handicap|nombre|\n",
    "|2022|Decathlon||France|Salariés en situation de handicap|nombre|\n",
    "|2020|Decathlon||France|Salariés en situation de handicap|nombre|\n",
    "|2021|Decathlon||France|Salariés en situation de handicap|nombre|\n",
    "|2020|Auchan|4.0|France|Salariés en situation de handicap (%)|pourcentage|\n",
    "|2021|Auchan|4.6|France|Salariés en situation de handicap (%)|pourcentage|\n",
    "|2022|Auchan|4.1|France|Salariés en situation de handicap (%)|pourcentage|\n",
    "|2022|Carrefour|3.7|France|Salariés en situation de handicap (%)|pourcentage|\n",
    "|2021|Carrefour|3.4|France|Salariés en situation de handicap (%)|pourcentage|\n",
    "|2021|Decathlon|3.1|France|Salariés en situation de handicap (%)|pourcentage|\n",
    "|2022|Decathlon|3.2|France|Salariés en situation de handicap (%)|pourcentage|\n",
    "|2020|Decathlon|3.2|France|Salariés en situation de handicap (%)|pourcentage|\n",
    "|2021|Decathlon|3.1|France|Salariés en situation de handicap (%)|pourcentage|\n",
    "\n",
    "\n",
    "**Comparaison des données obtenues et réelles**\n",
    "\n",
    "- données correctes pour Auchan et Carrefour\n",
    "- pas de données pour CNP (tableau à double entrée avec des sous-catégories et plusieurs lignes de totaux)\n",
    "- données manquantes pour Decathlon : pour 2023 l'année n'a pas été extraite du pdf (non présente dans le csv)\n",
    "- pas de donnée pour ENGIE et Orange ('handicap' ne figure pas dans le tableau)"
   ]
  },
  {
   "cell_type": "markdown",
   "metadata": {},
   "source": [
    "# Remarques et perspectives d'amélioration\n",
    "\n",
    "## Points facilitant l'extraction des données\n",
    "- les entreprises ciblées utilisent toutes soit le format pdf (avec du texte), soit une possibilité de format csv\n",
    "\n",
    "## Verrous\n",
    "- extraction des informations des tableaux parfois incomplète (*ex : Décathlon 2023, pas d'année pour les données des salariés handicapés*)\n",
    "- informations mises en page de manière différente selon les entreprises, les années, le type d'information \n",
    "- format des données variable (pourcentage, nombre, ratio, taux...) \n",
    "- tableau avec données par sous-catégories (pays, genre, autre) non extraites par le prompt (*ex : données de CNP*)\n",
    "- valeurs inscrites dans les tableaux ne contiennent pas le mot \"handicap\" permettant de filtrer les tableaux à envoyer au LLM (*ex : données d'ENGIE et d'Orange*)\n",
    "\n",
    "## Perspectives d'amélioration \n",
    "- extraire en markdown les fichiers pdf au lieu d'extraire uniquement les tableaux en csv \n",
    "- extraire et formatter avec docling les fichiers csv natifs (EDF, SNCF) pour améliorer l'adéquation avec langchain et le LLM\n",
    "- cibler les pages contenant potentiellement l'information en amont (*ex : 5 pages autour d'une page contenant le mot clef \"handicap\"*)\n",
    "- tester d'autres modèles de langage\n",
    "- optimiser le prompt pour chaque entreprise\n",
    "- optimiser et implémenter une étape de nettoyage des données entre docling et langchain\n",
    "- développer un nouveau prompt pour d'autres attributs (effectifs totaux, proportion d'hommes et de femmes, etc)\n",
    "- ajouter le titre du tableau ou des métadonnées extraites par ailleurs dans un second fichier de données pour le LLM"
   ]
  }
 ],
 "metadata": {
  "kernelspec": {
   "display_name": ".venv",
   "language": "python",
   "name": "python3"
  },
  "language_info": {
   "codemirror_mode": {
    "name": "ipython",
    "version": 3
   },
   "file_extension": ".py",
   "mimetype": "text/x-python",
   "name": "python",
   "nbconvert_exporter": "python",
   "pygments_lexer": "ipython3",
   "version": "3.12.3"
  }
 },
 "nbformat": 4,
 "nbformat_minor": 2
}
